{
 "cells": [
  {
   "cell_type": "code",
   "execution_count": 1,
   "id": "e250c21c",
   "metadata": {},
   "outputs": [
    {
     "name": "stderr",
     "output_type": "stream",
     "text": [
      "/Users/Fabsilein/.pyenv/versions/3.9.1/lib/python3.9/site-packages/pandas/compat/__init__.py:97: UserWarning: Could not import the lzma module. Your installed Python is incomplete. Attempting to use lzma compression will result in a RuntimeError.\n",
      "  warnings.warn(msg)\n"
     ]
    },
    {
     "data": {
      "application/vnd.jupyter.widget-view+json": {
       "model_id": "",
       "version_major": 2,
       "version_minor": 0
      },
      "text/plain": []
     },
     "metadata": {},
     "output_type": "display_data"
    },
    {
     "data": {
      "application/javascript": [
       "\n",
       "            setTimeout(function() {\n",
       "                var nbb_cell_id = 1;\n",
       "                var nbb_unformatted_code = \"%matplotlib widget\\n%load_ext nb_black\\n\\nimport numpy as np\\nimport os\\nimport pandas\\nimport pytest\\nimport sys\\n\\nfrom ase import io\\nfrom ase.visualize import view\\nimport nglview as ngl\\n\\nsys.path.append(\\\"../\\\")\\nfrom graphene_analysis import analysis\\n\\nimport matplotlib.pyplot as plt\";\n",
       "                var nbb_formatted_code = \"%matplotlib widget\\n%load_ext nb_black\\n\\nimport numpy as np\\nimport os\\nimport pandas\\nimport pytest\\nimport sys\\n\\nfrom ase import io\\nfrom ase.visualize import view\\nimport nglview as ngl\\n\\nsys.path.append(\\\"../\\\")\\nfrom graphene_analysis import analysis\\n\\nimport matplotlib.pyplot as plt\";\n",
       "                var nbb_cells = Jupyter.notebook.get_cells();\n",
       "                for (var i = 0; i < nbb_cells.length; ++i) {\n",
       "                    if (nbb_cells[i].input_prompt_number == nbb_cell_id) {\n",
       "                        if (nbb_cells[i].get_text() == nbb_unformatted_code) {\n",
       "                             nbb_cells[i].set_text(nbb_formatted_code);\n",
       "                        }\n",
       "                        break;\n",
       "                    }\n",
       "                }\n",
       "            }, 500);\n",
       "            "
      ],
      "text/plain": [
       "<IPython.core.display.Javascript object>"
      ]
     },
     "metadata": {},
     "output_type": "display_data"
    }
   ],
   "source": [
    "%matplotlib widget\n",
    "%load_ext nb_black\n",
    "\n",
    "import numpy as np\n",
    "import os\n",
    "import pandas\n",
    "import pytest\n",
    "import sys\n",
    "\n",
    "from ase import io\n",
    "from ase.visualize import view\n",
    "import nglview as ngl\n",
    "\n",
    "sys.path.append(\"../\")\n",
    "from graphene_analysis import analysis\n",
    "\n",
    "import matplotlib.pyplot as plt"
   ]
  },
  {
   "cell_type": "code",
   "execution_count": 4,
   "id": "5afcdb43",
   "metadata": {
    "scrolled": true
   },
   "outputs": [
    {
     "name": "stdout",
     "output_type": "stream",
     "text": [
      "Using the topology from ../tests/files/trajectories/pristine/npt.pdb.\n",
      "Creating universes for ../tests/files/trajectories/pristine/npt.dcd.\n",
      "SUCCESS: New sampling times.\n",
      "Start time: \t \t0 \t fs\n",
      "End time: \t \t1700 \t fs\n",
      "Time between frames: \t100 \t fs\n",
      "Frame frequency: \t1\n"
     ]
    },
    {
     "ename": "KeyNotFound",
     "evalue": "('Cannot guess defect type from system name given: Pristine', 'Please rename the system.')",
     "output_type": "error",
     "traceback": [
      "\u001b[0;31m---------------------------------------------------------------------------\u001b[0m",
      "\u001b[0;31mKeyNotFound\u001b[0m                               Traceback (most recent call last)",
      "\u001b[0;32m<ipython-input-4-2c0ee1e23f7d>\u001b[0m in \u001b[0;36m<module>\u001b[0;34m\u001b[0m\n\u001b[1;32m      7\u001b[0m )\n\u001b[1;32m      8\u001b[0m \u001b[0;34m\u001b[0m\u001b[0m\n\u001b[0;32m----> 9\u001b[0;31m \u001b[0msimulation\u001b[0m\u001b[0;34m.\u001b[0m\u001b[0mfind_defective_atoms\u001b[0m\u001b[0;34m(\u001b[0m\u001b[0;34m)\u001b[0m\u001b[0;34m\u001b[0m\u001b[0;34m\u001b[0m\u001b[0m\n\u001b[0m\u001b[1;32m     10\u001b[0m \u001b[0;31m#simulation.find_atoms_around_defects_within_cutoff()\u001b[0m\u001b[0;34m\u001b[0m\u001b[0;34m\u001b[0m\u001b[0;34m\u001b[0m\u001b[0m\n",
      "\u001b[0;32m~/Work/codes/graphene-analysis/graphene_analysis/analysis.py\u001b[0m in \u001b[0;36mfind_defective_atoms\u001b[0;34m(self)\u001b[0m\n\u001b[1;32m    259\u001b[0m \u001b[0;34m\u001b[0m\u001b[0m\n\u001b[1;32m    260\u001b[0m         \u001b[0;31m# finish by clustering atoms to defects\u001b[0m\u001b[0;34m\u001b[0m\u001b[0;34m\u001b[0m\u001b[0;34m\u001b[0m\u001b[0m\n\u001b[0;32m--> 261\u001b[0;31m         \u001b[0;32mif\u001b[0m \u001b[0mself\u001b[0m\u001b[0;34m.\u001b[0m\u001b[0mdefect_type\u001b[0m \u001b[0;32mis\u001b[0m \u001b[0;32mnot\u001b[0m \u001b[0;34m\"Pristine\"\u001b[0m\u001b[0;34m:\u001b[0m\u001b[0;34m\u001b[0m\u001b[0;34m\u001b[0m\u001b[0m\n\u001b[0m\u001b[1;32m    262\u001b[0m             \u001b[0mself\u001b[0m\u001b[0;34m.\u001b[0m\u001b[0m_assign_defective_atoms_to_defects\u001b[0m\u001b[0;34m(\u001b[0m\u001b[0;34m)\u001b[0m\u001b[0;34m\u001b[0m\u001b[0;34m\u001b[0m\u001b[0m\n\u001b[1;32m    263\u001b[0m \u001b[0;34m\u001b[0m\u001b[0m\n",
      "\u001b[0;32m~/Work/codes/graphene-analysis/graphene_analysis/analysis.py\u001b[0m in \u001b[0;36m_assign_defective_atoms_to_defects\u001b[0;34m(self)\u001b[0m\n\u001b[1;32m    284\u001b[0m \u001b[0;34m\u001b[0m\u001b[0m\n\u001b[1;32m    285\u001b[0m         \u001b[0;31m# if not found assign pristine and print error\u001b[0m\u001b[0;34m\u001b[0m\u001b[0;34m\u001b[0m\u001b[0;34m\u001b[0m\u001b[0m\n\u001b[0;32m--> 286\u001b[0;31m         \u001b[0;32mif\u001b[0m \u001b[0mself\u001b[0m\u001b[0;34m.\u001b[0m\u001b[0mdefect_type\u001b[0m \u001b[0;34m==\u001b[0m \u001b[0;34m\"Pristine\"\u001b[0m\u001b[0;34m:\u001b[0m\u001b[0;34m\u001b[0m\u001b[0;34m\u001b[0m\u001b[0m\n\u001b[0m\u001b[1;32m    287\u001b[0m             raise KeyNotFound(\n\u001b[1;32m    288\u001b[0m                 \u001b[0;34mf\"Cannot guess defect type from system name given: {self.system}\"\u001b[0m\u001b[0;34m,\u001b[0m\u001b[0;34m\u001b[0m\u001b[0;34m\u001b[0m\u001b[0m\n",
      "\u001b[0;31mKeyNotFound\u001b[0m: ('Cannot guess defect type from system name given: Pristine', 'Please rename the system.')"
     ]
    },
    {
     "data": {
      "application/javascript": [
       "\n",
       "            setTimeout(function() {\n",
       "                var nbb_cell_id = 4;\n",
       "                var nbb_unformatted_code = \"path = \\\"../tests/files/trajectories/pristine/\\\"\\n\\nsimulation = analysis.Simulation(path, \\\"Pristine\\\")\\nsimulation.read_in_simulation_data()\\nsimulation.set_sampling_times(\\n    start_time=0, end_time=-1, frame_frequency=1, time_between_frames=100\\n)\\n\\nsimulation.find_defective_atoms()\\n#simulation.find_atoms_around_defects_within_cutoff()\";\n",
       "                var nbb_formatted_code = \"path = \\\"../tests/files/trajectories/pristine/\\\"\\n\\nsimulation = analysis.Simulation(path, \\\"Pristine\\\")\\nsimulation.read_in_simulation_data()\\nsimulation.set_sampling_times(\\n    start_time=0, end_time=-1, frame_frequency=1, time_between_frames=100\\n)\\n\\nsimulation.find_defective_atoms()\\n# simulation.find_atoms_around_defects_within_cutoff()\";\n",
       "                var nbb_cells = Jupyter.notebook.get_cells();\n",
       "                for (var i = 0; i < nbb_cells.length; ++i) {\n",
       "                    if (nbb_cells[i].input_prompt_number == nbb_cell_id) {\n",
       "                        if (nbb_cells[i].get_text() == nbb_unformatted_code) {\n",
       "                             nbb_cells[i].set_text(nbb_formatted_code);\n",
       "                        }\n",
       "                        break;\n",
       "                    }\n",
       "                }\n",
       "            }, 500);\n",
       "            "
      ],
      "text/plain": [
       "<IPython.core.display.Javascript object>"
      ]
     },
     "metadata": {},
     "output_type": "display_data"
    }
   ],
   "source": [
    "path = \"../tests/files/trajectories/pristine/\"\n",
    "\n",
    "simulation = analysis.Simulation(path, \"Pristine\")\n",
    "simulation.read_in_simulation_data()\n",
    "simulation.set_sampling_times(\n",
    "    start_time=0, end_time=-1, frame_frequency=1, time_between_frames=100\n",
    ")\n",
    "\n",
    "simulation.find_defective_atoms()\n",
    "# simulation.find_atoms_around_defects_within_cutoff()"
   ]
  },
  {
   "cell_type": "code",
   "execution_count": 3,
   "id": "9cdac0c4",
   "metadata": {},
   "outputs": [
    {
     "data": {
      "application/vnd.jupyter.widget-view+json": {
       "model_id": "3ba938f29ab548aab6015b9c918e5879",
       "version_major": 2,
       "version_minor": 0
      },
      "text/plain": [
       "  0%|          | 0/17 [00:00<?, ?it/s]"
      ]
     },
     "metadata": {},
     "output_type": "display_data"
    },
    {
     "data": {
      "application/javascript": [
       "\n",
       "            setTimeout(function() {\n",
       "                var nbb_cell_id = 3;\n",
       "                var nbb_unformatted_code = \"invariant_positions = simulation.compute_local_environments_geometry()\";\n",
       "                var nbb_formatted_code = \"invariant_positions = simulation.compute_local_environments_geometry()\";\n",
       "                var nbb_cells = Jupyter.notebook.get_cells();\n",
       "                for (var i = 0; i < nbb_cells.length; ++i) {\n",
       "                    if (nbb_cells[i].input_prompt_number == nbb_cell_id) {\n",
       "                        if (nbb_cells[i].get_text() == nbb_unformatted_code) {\n",
       "                             nbb_cells[i].set_text(nbb_formatted_code);\n",
       "                        }\n",
       "                        break;\n",
       "                    }\n",
       "                }\n",
       "            }, 500);\n",
       "            "
      ],
      "text/plain": [
       "<IPython.core.display.Javascript object>"
      ]
     },
     "metadata": {},
     "output_type": "display_data"
    }
   ],
   "source": [
    "invariant_positions = simulation.compute_local_environments_geometry()"
   ]
  },
  {
   "cell_type": "code",
   "execution_count": 4,
   "id": "43259c51",
   "metadata": {},
   "outputs": [
    {
     "data": {
      "application/vnd.jupyter.widget-view+json": {
       "model_id": "20bd290a81b041279fa566d3b2ad1c85",
       "version_major": 2,
       "version_minor": 0
      },
      "text/plain": [
       "Canvas(toolbar=Toolbar(toolitems=[('Home', 'Reset original view', 'home', 'home'), ('Back', 'Back to previous …"
      ]
     },
     "metadata": {},
     "output_type": "display_data"
    },
    {
     "data": {
      "application/javascript": [
       "\n",
       "            setTimeout(function() {\n",
       "                var nbb_cell_id = 4;\n",
       "                var nbb_unformatted_code = \"fig, ax = plt.subplots(1, 1)\\n\\nfor count, defect in enumerate(invariant_positions):\\n\\n    ax.scatter(defect[:, 0], defect[:, 1])\\n\\n# ax.scatter(invariant_positions[10][:,0],invariant_positions[10][:,1])\\n\\n\\nax.set_aspect(\\\"equal\\\")\";\n",
       "                var nbb_formatted_code = \"fig, ax = plt.subplots(1, 1)\\n\\nfor count, defect in enumerate(invariant_positions):\\n\\n    ax.scatter(defect[:, 0], defect[:, 1])\\n\\n# ax.scatter(invariant_positions[10][:,0],invariant_positions[10][:,1])\\n\\n\\nax.set_aspect(\\\"equal\\\")\";\n",
       "                var nbb_cells = Jupyter.notebook.get_cells();\n",
       "                for (var i = 0; i < nbb_cells.length; ++i) {\n",
       "                    if (nbb_cells[i].input_prompt_number == nbb_cell_id) {\n",
       "                        if (nbb_cells[i].get_text() == nbb_unformatted_code) {\n",
       "                             nbb_cells[i].set_text(nbb_formatted_code);\n",
       "                        }\n",
       "                        break;\n",
       "                    }\n",
       "                }\n",
       "            }, 500);\n",
       "            "
      ],
      "text/plain": [
       "<IPython.core.display.Javascript object>"
      ]
     },
     "metadata": {},
     "output_type": "display_data"
    }
   ],
   "source": [
    "fig, ax = plt.subplots(1, 1)\n",
    "\n",
    "for count, defect in enumerate(invariant_positions):\n",
    "\n",
    "    ax.scatter(defect[:, 0], defect[:, 1])\n",
    "\n",
    "# ax.scatter(invariant_positions[10][:,0],invariant_positions[10][:,1])\n",
    "\n",
    "\n",
    "ax.set_aspect(\"equal\")"
   ]
  },
  {
   "cell_type": "code",
   "execution_count": 38,
   "id": "c3425ba9",
   "metadata": {
    "scrolled": false
   },
   "outputs": [
    {
     "name": "stdout",
     "output_type": "stream",
     "text": [
      "[ 0.0826877  -0.11933532  0.06694045  0.03864141 -0.04426316  0.0404186 ]\n"
     ]
    },
    {
     "data": {
      "application/vnd.jupyter.widget-view+json": {
       "model_id": "1399a70a71504748bb621c454d96fd8b",
       "version_major": 2,
       "version_minor": 0
      },
      "text/plain": [
       "Canvas(toolbar=Toolbar(toolitems=[('Home', 'Reset original view', 'home', 'home'), ('Back', 'Back to previous …"
      ]
     },
     "metadata": {},
     "output_type": "display_data"
    },
    {
     "data": {
      "text/plain": [
       "<mpl_toolkits.mplot3d.art3d.Path3DCollection at 0x135230430>"
      ]
     },
     "execution_count": 38,
     "metadata": {},
     "output_type": "execute_result"
    },
    {
     "data": {
      "application/javascript": [
       "\n",
       "            setTimeout(function() {\n",
       "                var nbb_cell_id = 38;\n",
       "                var nbb_unformatted_code = \"from mpl_toolkits import mplot3d\\nimport scipy\\n\\nX, Y = np.meshgrid(np.arange(-4.0, 4.0, 0.1), np.arange(-4.0, 4.0, 0.1))\\nXX = X.flatten()\\nYY = Y.flatten()\\n\\ndata = defect\\nA = np.c_[\\n    np.ones(data.shape[0]), data[:, :2], np.prod(data[:, :2], axis=1), data[:, :2] ** 2\\n]\\nC, res, _, _ = scipy.linalg.lstsq(A, data[:, 2])\\n\\n# evaluate it on a grid\\nZ = np.dot(np.c_[np.ones(XX.shape), XX, YY, XX * YY, XX ** 2, YY ** 2], C).reshape(\\n    X.shape\\n)\\nprint(C)\\n\\nfig = plt.figure()\\nax = plt.axes(projection=\\\"3d\\\")\\nax.plot_surface(X, Y, Z, rstride=1, cstride=1, alpha=0.2)\\nax.scatter(data[:, 0], data[:, 1], data[:, 2])\";\n",
       "                var nbb_formatted_code = \"from mpl_toolkits import mplot3d\\nimport scipy\\n\\nX, Y = np.meshgrid(np.arange(-4.0, 4.0, 0.1), np.arange(-4.0, 4.0, 0.1))\\nXX = X.flatten()\\nYY = Y.flatten()\\n\\ndata = defect\\nA = np.c_[\\n    np.ones(data.shape[0]), data[:, :2], np.prod(data[:, :2], axis=1), data[:, :2] ** 2\\n]\\nC, res, _, _ = scipy.linalg.lstsq(A, data[:, 2])\\n\\n# evaluate it on a grid\\nZ = np.dot(np.c_[np.ones(XX.shape), XX, YY, XX * YY, XX ** 2, YY ** 2], C).reshape(\\n    X.shape\\n)\\nprint(C)\\n\\nfig = plt.figure()\\nax = plt.axes(projection=\\\"3d\\\")\\nax.plot_surface(X, Y, Z, rstride=1, cstride=1, alpha=0.2)\\nax.scatter(data[:, 0], data[:, 1], data[:, 2])\";\n",
       "                var nbb_cells = Jupyter.notebook.get_cells();\n",
       "                for (var i = 0; i < nbb_cells.length; ++i) {\n",
       "                    if (nbb_cells[i].input_prompt_number == nbb_cell_id) {\n",
       "                        if (nbb_cells[i].get_text() == nbb_unformatted_code) {\n",
       "                             nbb_cells[i].set_text(nbb_formatted_code);\n",
       "                        }\n",
       "                        break;\n",
       "                    }\n",
       "                }\n",
       "            }, 500);\n",
       "            "
      ],
      "text/plain": [
       "<IPython.core.display.Javascript object>"
      ]
     },
     "metadata": {},
     "output_type": "display_data"
    }
   ],
   "source": [
    "from mpl_toolkits import mplot3d\n",
    "import scipy\n",
    "\n",
    "X, Y = np.meshgrid(np.arange(-4.0, 4.0, 0.1), np.arange(-4.0, 4.0, 0.1))\n",
    "XX = X.flatten()\n",
    "YY = Y.flatten()\n",
    "\n",
    "data = defect\n",
    "A = np.c_[\n",
    "    np.ones(data.shape[0]), data[:, :2], np.prod(data[:, :2], axis=1), data[:, :2] ** 2\n",
    "]\n",
    "C, res, _, _ = scipy.linalg.lstsq(A, data[:, 2])\n",
    "\n",
    "# evaluate it on a grid\n",
    "Z = np.dot(np.c_[np.ones(XX.shape), XX, YY, XX * YY, XX ** 2, YY ** 2], C).reshape(\n",
    "    X.shape\n",
    ")\n",
    "print(C)\n",
    "\n",
    "fig = plt.figure()\n",
    "ax = plt.axes(projection=\"3d\")\n",
    "ax.plot_surface(X, Y, Z, rstride=1, cstride=1, alpha=0.2)\n",
    "ax.scatter(data[:, 0], data[:, 1], data[:, 2])\n",
    "\n"
   ]
  },
  {
   "cell_type": "code",
   "execution_count": 43,
   "id": "856622da",
   "metadata": {},
   "outputs": [
    {
     "data": {
      "application/javascript": [
       "\n",
       "            setTimeout(function() {\n",
       "                var nbb_cell_id = 43;\n",
       "                var nbb_unformatted_code = \"\\ndef function(x_dat,y_dat, coeff):\\n    return coeff[0]+coeff[1]*x_dat+coeff[2]*y_dat+coeff[3]*x_dat*y_dat+ coeff[4]*x_dat**2+ coeff[5]*y_dat**2 \\n    \\nx_dat = data[:, 0]\\ny_dat = data[:, 1]\\n\\nresid = np.sum(np.square(function(x_dat,y_dat,C)-data[:,2]))\";\n",
       "                var nbb_formatted_code = \"def function(x_dat, y_dat, coeff):\\n    return (\\n        coeff[0]\\n        + coeff[1] * x_dat\\n        + coeff[2] * y_dat\\n        + coeff[3] * x_dat * y_dat\\n        + coeff[4] * x_dat ** 2\\n        + coeff[5] * y_dat ** 2\\n    )\\n\\n\\nx_dat = data[:, 0]\\ny_dat = data[:, 1]\\n\\nresid = np.sum(np.square(function(x_dat, y_dat, C) - data[:, 2]))\";\n",
       "                var nbb_cells = Jupyter.notebook.get_cells();\n",
       "                for (var i = 0; i < nbb_cells.length; ++i) {\n",
       "                    if (nbb_cells[i].input_prompt_number == nbb_cell_id) {\n",
       "                        if (nbb_cells[i].get_text() == nbb_unformatted_code) {\n",
       "                             nbb_cells[i].set_text(nbb_formatted_code);\n",
       "                        }\n",
       "                        break;\n",
       "                    }\n",
       "                }\n",
       "            }, 500);\n",
       "            "
      ],
      "text/plain": [
       "<IPython.core.display.Javascript object>"
      ]
     },
     "metadata": {},
     "output_type": "display_data"
    }
   ],
   "source": [
    "\n",
    "def function(x_dat,y_dat, coeff):\n",
    "    return coeff[0]+coeff[1]*x_dat+coeff[2]*y_dat+coeff[3]*x_dat*y_dat+ coeff[4]*x_dat**2+ coeff[5]*y_dat**2 \n",
    "    \n",
    "x_dat = data[:, 0]\n",
    "y_dat = data[:, 1]\n",
    "\n",
    "resid = np.sum(np.square(function(x_dat,y_dat,C)-data[:,2]))\n"
   ]
  },
  {
   "cell_type": "code",
   "execution_count": 46,
   "id": "0ed41eec",
   "metadata": {},
   "outputs": [
    {
     "data": {
      "text/plain": [
       "0.9735346316038488"
      ]
     },
     "execution_count": 46,
     "metadata": {},
     "output_type": "execute_result"
    },
    {
     "data": {
      "application/javascript": [
       "\n",
       "            setTimeout(function() {\n",
       "                var nbb_cell_id = 46;\n",
       "                var nbb_unformatted_code = \"r2 = 1 - resid / (data[:, 2].size * data[:, 2].var())\\nr2\";\n",
       "                var nbb_formatted_code = \"r2 = 1 - resid / (data[:, 2].size * data[:, 2].var())\\nr2\";\n",
       "                var nbb_cells = Jupyter.notebook.get_cells();\n",
       "                for (var i = 0; i < nbb_cells.length; ++i) {\n",
       "                    if (nbb_cells[i].input_prompt_number == nbb_cell_id) {\n",
       "                        if (nbb_cells[i].get_text() == nbb_unformatted_code) {\n",
       "                             nbb_cells[i].set_text(nbb_formatted_code);\n",
       "                        }\n",
       "                        break;\n",
       "                    }\n",
       "                }\n",
       "            }, 500);\n",
       "            "
      ],
      "text/plain": [
       "<IPython.core.display.Javascript object>"
      ]
     },
     "metadata": {},
     "output_type": "display_data"
    }
   ],
   "source": [
    "r2 = 1 - resid / (data[:, 2].size * data[:, 2].var())\n",
    "r2"
   ]
  },
  {
   "cell_type": "code",
   "execution_count": 44,
   "id": "2f9ad1e6",
   "metadata": {},
   "outputs": [
    {
     "data": {
      "text/plain": [
       "0.201913123793185"
      ]
     },
     "execution_count": 44,
     "metadata": {},
     "output_type": "execute_result"
    },
    {
     "data": {
      "application/javascript": [
       "\n",
       "            setTimeout(function() {\n",
       "                var nbb_cell_id = 44;\n",
       "                var nbb_unformatted_code = \"data[:, 2].var()\";\n",
       "                var nbb_formatted_code = \"data[:, 2].var()\";\n",
       "                var nbb_cells = Jupyter.notebook.get_cells();\n",
       "                for (var i = 0; i < nbb_cells.length; ++i) {\n",
       "                    if (nbb_cells[i].input_prompt_number == nbb_cell_id) {\n",
       "                        if (nbb_cells[i].get_text() == nbb_unformatted_code) {\n",
       "                             nbb_cells[i].set_text(nbb_formatted_code);\n",
       "                        }\n",
       "                        break;\n",
       "                    }\n",
       "                }\n",
       "            }, 500);\n",
       "            "
      ],
      "text/plain": [
       "<IPython.core.display.Javascript object>"
      ]
     },
     "metadata": {},
     "output_type": "display_data"
    }
   ],
   "source": [
    "data[:, 2].var()"
   ]
  },
  {
   "cell_type": "code",
   "execution_count": 16,
   "id": "bcb38bae",
   "metadata": {
    "scrolled": true
   },
   "outputs": [
    {
     "data": {
      "text/plain": [
       "<Popen: returncode: None args: ['/Users/Fabsilein/.pyenv/versions/3.9.1/bin/...>"
      ]
     },
     "execution_count": 16,
     "metadata": {},
     "output_type": "execute_result"
    }
   ],
   "source": [
    "view(simulation.topology[simulation.defective_atoms_ids_clustered[3]])"
   ]
  },
  {
   "cell_type": "code",
   "execution_count": 12,
   "id": "6a8e39dd",
   "metadata": {},
   "outputs": [
    {
     "data": {
      "text/plain": [
       "array([1.57079633, 1.57079633, 0.52363049, 0.52363049, 1.57079633,\n",
       "       1.57079633, 1.57079633, 0.52352867, 1.57079633, 0.52357941,\n",
       "       0.52371815, 0.52352848, 1.57079633, 1.57079633, 0.52352867,\n",
       "       0.52357943, 0.52366729, 0.52361655, 1.57079633, 0.52357931,\n",
       "       0.52375531, 1.57079633, 0.52352875, 0.52362982, 1.57079633,\n",
       "       0.52352901, 0.52380626, 0.52363049, 0.52366753, 0.52352881,\n",
       "       0.52357868, 0.52352833, 1.57079633, 1.57079633, 0.52352901,\n",
       "       0.52352833])"
      ]
     },
     "execution_count": 12,
     "metadata": {},
     "output_type": "execute_result"
    }
   ],
   "source": [
    "simulation.orientations_per_defect"
   ]
  },
  {
   "cell_type": "code",
   "execution_count": 15,
   "id": "c14e7989",
   "metadata": {},
   "outputs": [
    {
     "data": {
      "text/plain": [
       "<Popen: returncode: None args: ['/Users/Fabsilein/.pyenv/versions/3.9.1/bin/...>"
      ]
     },
     "execution_count": 15,
     "metadata": {},
     "output_type": "execute_result"
    }
   ],
   "source": [
    "view(simulation.topology[simulation.defective_atoms_ids_clustered[2]])"
   ]
  },
  {
   "cell_type": "code",
   "execution_count": 8,
   "id": "494088d2",
   "metadata": {},
   "outputs": [],
   "source": [
    "mean = np.array([0.0,0.0,0.0])\n",
    "cov = np.array([[1.0,-0.5,0.8], [-0.5,1.1,0.0], [0.8,0.0,1.0]])\n",
    "data = np.random.multivariate_normal(mean, cov, 50)"
   ]
  },
  {
   "cell_type": "code",
   "execution_count": 14,
   "id": "389f6f08",
   "metadata": {},
   "outputs": [
    {
     "data": {
      "text/plain": [
       "array([[-0.24268258,  0.99001868,  0.40041638],\n",
       "       [-1.58303711, -0.25538717, -1.40148475],\n",
       "       [-0.4245625 ,  0.14765144, -0.60625481],\n",
       "       [ 0.17409913, -0.70621061, -0.55429747],\n",
       "       [ 0.1466981 , -0.08355283,  0.10063218],\n",
       "       [ 0.15668731, -0.50150027, -0.04464239],\n",
       "       [-0.03369849, -0.05272379,  0.82097331],\n",
       "       [-0.3483041 , -0.67165415,  0.10525948],\n",
       "       [ 0.42155432,  0.05211819,  0.4953925 ],\n",
       "       [-0.00843094,  2.0111955 ,  0.64736024],\n",
       "       [-0.47985917, -0.73971545, -1.07360847],\n",
       "       [-0.08246537,  1.55010696,  0.54611603],\n",
       "       [ 0.53808137, -0.13532633, -0.11750471],\n",
       "       [-1.19096098,  1.73570675,  0.06910027],\n",
       "       [-1.33595383,  0.91050814, -1.29136823],\n",
       "       [ 0.38982025,  1.17435341,  0.15564817],\n",
       "       [ 0.11413607,  0.43073221,  0.59263044],\n",
       "       [ 0.56999005, -0.05528372,  1.29804901],\n",
       "       [-1.03567462,  0.65389149, -0.86485506],\n",
       "       [ 0.40508937, -1.53918891,  0.20734666],\n",
       "       [-0.21620066,  0.1391652 , -0.66208536],\n",
       "       [-1.13571884,  0.65785509, -1.27168879],\n",
       "       [-0.0052648 , -2.05947653, -0.75157897],\n",
       "       [-0.75699993,  1.11324733, -0.04414984],\n",
       "       [ 0.19722565,  1.32332836,  0.6201264 ],\n",
       "       [ 0.2172249 , -0.43958021,  0.70446467],\n",
       "       [ 0.42932253,  0.28215705,  0.36911788],\n",
       "       [ 0.45620967, -0.87719413,  0.13736461],\n",
       "       [ 0.00826721, -0.72294835, -1.09665087],\n",
       "       [ 1.02805632,  0.6942102 ,  2.10307602],\n",
       "       [-1.35360198,  0.8392482 , -1.50615281],\n",
       "       [ 0.5441763 , -0.08393192,  0.32803214],\n",
       "       [-0.48326838,  1.58860414,  0.31123751],\n",
       "       [-2.21471652,  0.98711627, -1.90357915],\n",
       "       [ 0.2364413 ,  1.06246176,  0.91494773],\n",
       "       [ 0.50546031,  0.19044703,  1.46607945],\n",
       "       [-0.63556244,  0.01692585, -0.85556429],\n",
       "       [-0.98206005,  0.86346841, -0.63338367],\n",
       "       [ 1.39507876, -1.6087202 , -0.14616702],\n",
       "       [ 0.09363844,  1.01325778,  0.52476096],\n",
       "       [ 0.47490687, -1.13662349,  0.63808965],\n",
       "       [-0.36500382, -0.47602552, -0.28621043],\n",
       "       [-0.19797409, -0.80458659, -1.76839088],\n",
       "       [-3.5101372 ,  1.67292755, -2.61483086],\n",
       "       [-0.60968008,  0.3074395 , -0.93423494],\n",
       "       [-0.61419143,  0.67716605,  0.03583905],\n",
       "       [ 0.83408961, -0.14904027,  0.83439295],\n",
       "       [-0.57449722,  0.49014916,  0.09345535],\n",
       "       [-0.61337437, -0.37623056, -1.29473569],\n",
       "       [-0.65881337,  0.63528521, -0.04415197]])"
      ]
     },
     "execution_count": 14,
     "metadata": {},
     "output_type": "execute_result"
    }
   ],
   "source": [
    "data"
   ]
  },
  {
   "cell_type": "code",
   "execution_count": 16,
   "id": "28fb1979",
   "metadata": {},
   "outputs": [
    {
     "data": {
      "text/plain": [
       "array([[-0.24268258,  0.99001868,  1.        ],\n",
       "       [-1.58303711, -0.25538717,  1.        ],\n",
       "       [-0.4245625 ,  0.14765144,  1.        ],\n",
       "       [ 0.17409913, -0.70621061,  1.        ],\n",
       "       [ 0.1466981 , -0.08355283,  1.        ],\n",
       "       [ 0.15668731, -0.50150027,  1.        ],\n",
       "       [-0.03369849, -0.05272379,  1.        ],\n",
       "       [-0.3483041 , -0.67165415,  1.        ],\n",
       "       [ 0.42155432,  0.05211819,  1.        ],\n",
       "       [-0.00843094,  2.0111955 ,  1.        ],\n",
       "       [-0.47985917, -0.73971545,  1.        ],\n",
       "       [-0.08246537,  1.55010696,  1.        ],\n",
       "       [ 0.53808137, -0.13532633,  1.        ],\n",
       "       [-1.19096098,  1.73570675,  1.        ],\n",
       "       [-1.33595383,  0.91050814,  1.        ],\n",
       "       [ 0.38982025,  1.17435341,  1.        ],\n",
       "       [ 0.11413607,  0.43073221,  1.        ],\n",
       "       [ 0.56999005, -0.05528372,  1.        ],\n",
       "       [-1.03567462,  0.65389149,  1.        ],\n",
       "       [ 0.40508937, -1.53918891,  1.        ],\n",
       "       [-0.21620066,  0.1391652 ,  1.        ],\n",
       "       [-1.13571884,  0.65785509,  1.        ],\n",
       "       [-0.0052648 , -2.05947653,  1.        ],\n",
       "       [-0.75699993,  1.11324733,  1.        ],\n",
       "       [ 0.19722565,  1.32332836,  1.        ],\n",
       "       [ 0.2172249 , -0.43958021,  1.        ],\n",
       "       [ 0.42932253,  0.28215705,  1.        ],\n",
       "       [ 0.45620967, -0.87719413,  1.        ],\n",
       "       [ 0.00826721, -0.72294835,  1.        ],\n",
       "       [ 1.02805632,  0.6942102 ,  1.        ],\n",
       "       [-1.35360198,  0.8392482 ,  1.        ],\n",
       "       [ 0.5441763 , -0.08393192,  1.        ],\n",
       "       [-0.48326838,  1.58860414,  1.        ],\n",
       "       [-2.21471652,  0.98711627,  1.        ],\n",
       "       [ 0.2364413 ,  1.06246176,  1.        ],\n",
       "       [ 0.50546031,  0.19044703,  1.        ],\n",
       "       [-0.63556244,  0.01692585,  1.        ],\n",
       "       [-0.98206005,  0.86346841,  1.        ],\n",
       "       [ 1.39507876, -1.6087202 ,  1.        ],\n",
       "       [ 0.09363844,  1.01325778,  1.        ],\n",
       "       [ 0.47490687, -1.13662349,  1.        ],\n",
       "       [-0.36500382, -0.47602552,  1.        ],\n",
       "       [-0.19797409, -0.80458659,  1.        ],\n",
       "       [-3.5101372 ,  1.67292755,  1.        ],\n",
       "       [-0.60968008,  0.3074395 ,  1.        ],\n",
       "       [-0.61419143,  0.67716605,  1.        ],\n",
       "       [ 0.83408961, -0.14904027,  1.        ],\n",
       "       [-0.57449722,  0.49014916,  1.        ],\n",
       "       [-0.61337437, -0.37623056,  1.        ],\n",
       "       [-0.65881337,  0.63528521,  1.        ]])"
      ]
     },
     "execution_count": 16,
     "metadata": {},
     "output_type": "execute_result"
    }
   ],
   "source": [
    "A = np.c_[np.ones(data.shape[0]), data[:,:2], np.prod(data[:,:2], axis=1), data[:,:2]**2]\n",
    "A\n",
    "A = np.c_[data[:,0], data[:,1], np.ones(data.shape[0])]\n",
    "A"
   ]
  }
 ],
 "metadata": {
  "kernelspec": {
   "display_name": "Python 3",
   "language": "python",
   "name": "python3"
  },
  "language_info": {
   "codemirror_mode": {
    "name": "ipython",
    "version": 3
   },
   "file_extension": ".py",
   "mimetype": "text/x-python",
   "name": "python",
   "nbconvert_exporter": "python",
   "pygments_lexer": "ipython3",
   "version": "3.9.1"
  }
 },
 "nbformat": 4,
 "nbformat_minor": 5
}
