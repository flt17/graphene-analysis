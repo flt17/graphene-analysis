{
 "cells": [
  {
   "cell_type": "code",
   "execution_count": 10,
   "id": "e250c21c",
   "metadata": {},
   "outputs": [],
   "source": [
    "import numpy as np\n",
    "import os\n",
    "import pandas\n",
    "import pytest\n",
    "import sys\n",
    "\n",
    "from ase import io\n",
    "from ase.visualize import view\n",
    "import nglview as ngl\n",
    "\n",
    "sys.path.append(\"../\")\n",
    "from graphene_analysis import analysis"
   ]
  },
  {
   "cell_type": "code",
   "execution_count": 11,
   "id": "5afcdb43",
   "metadata": {
    "scrolled": true
   },
   "outputs": [
    {
     "name": "stdout",
     "output_type": "stream",
     "text": [
      "Using the topology from ../tests/files/trajectories/divacancy_36/npt.pdb.\n",
      "Creating universes for ../tests/files/trajectories/divacancy_36/npt.dcd.\n"
     ]
    },
    {
     "name": "stderr",
     "output_type": "stream",
     "text": [
      "/Users/Fabsilein/.pyenv/versions/3.8.9/lib/python3.8/site-packages/MDAnalysis/topology/PDBParser.py:330: UserWarning: Element information is absent or missing for a few atoms. Elements attributes will not be populated.\n",
      "  warnings.warn(\"Element information is absent or missing for a few \"\n",
      "/Users/Fabsilein/.pyenv/versions/3.8.9/lib/python3.8/site-packages/MDAnalysis/topology/base.py:203: DeprecationWarning: `np.int` is a deprecated alias for the builtin `int`. To silence this warning, use `int` by itself. Doing this will not modify any behavior and is safe. When replacing `np.int`, you may wish to use e.g. `np.int64` or `np.int32` to specify the precision. If you wish to review your current use, check the release note link for additional information.\n",
      "Deprecated in NumPy 1.20; for more details and guidance: https://numpy.org/devdocs/release/1.20.0-notes.html#deprecations\n",
      "  residx = np.zeros_like(criteria[0], dtype=np.int)\n"
     ]
    }
   ],
   "source": [
    "path = \"../tests/files/trajectories/divacancy_36/\"\n",
    "\n",
    "simulation = analysis.Simulation(path)\n",
    "simulation.read_in_simulation_data()\n",
    "simulation.find_defective_atoms()"
   ]
  },
  {
   "cell_type": "code",
   "execution_count": 17,
   "id": "94e6c508",
   "metadata": {},
   "outputs": [
    {
     "data": {
      "application/vnd.jupyter.widget-view+json": {
       "model_id": "117b7ddb2dcb45379352e14fc61c937a",
       "version_major": 2,
       "version_minor": 0
      },
      "text/plain": [
       "HBox(children=(NGLWidget(), VBox(children=(Dropdown(description='Show', options=('All', 'C'), value='All'), Dr…"
      ]
     },
     "metadata": {},
     "output_type": "display_data"
    }
   ],
   "source": [
    "view(simulation.topology[simulation.defective_atoms_ids],viewer='nglview')"
   ]
  }
 ],
 "metadata": {
  "kernelspec": {
   "display_name": "Python 3",
   "language": "python",
   "name": "python3"
  },
  "language_info": {
   "codemirror_mode": {
    "name": "ipython",
    "version": 3
   },
   "file_extension": ".py",
   "mimetype": "text/x-python",
   "name": "python",
   "nbconvert_exporter": "python",
   "pygments_lexer": "ipython3",
   "version": "3.8.9"
  }
 },
 "nbformat": 4,
 "nbformat_minor": 5
}
