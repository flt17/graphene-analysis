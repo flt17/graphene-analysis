{
 "cells": [
  {
   "cell_type": "code",
   "execution_count": 1,
   "id": "e250c21c",
   "metadata": {},
   "outputs": [
    {
     "name": "stderr",
     "output_type": "stream",
     "text": [
      "/Users/Fabsilein/.pyenv/versions/3.9.1/lib/python3.9/site-packages/pandas/compat/__init__.py:97: UserWarning: Could not import the lzma module. Your installed Python is incomplete. Attempting to use lzma compression will result in a RuntimeError.\n",
      "  warnings.warn(msg)\n"
     ]
    },
    {
     "data": {
      "application/vnd.jupyter.widget-view+json": {
       "model_id": "4d47f2943806487eb4d58f08046816af",
       "version_major": 2,
       "version_minor": 0
      },
      "text/plain": []
     },
     "metadata": {},
     "output_type": "display_data"
    }
   ],
   "source": [
    "import numpy as np\n",
    "import os\n",
    "import pandas\n",
    "import pytest\n",
    "import sys\n",
    "\n",
    "from ase import io\n",
    "from ase.visualize import view\n",
    "import nglview as ngl\n",
    "\n",
    "sys.path.append(\"../\")\n",
    "from graphene_analysis import analysis\n",
    "\n",
    "import matplotlib.pyplot as plt"
   ]
  },
  {
   "cell_type": "code",
   "execution_count": 2,
   "id": "5afcdb43",
   "metadata": {
    "scrolled": true
   },
   "outputs": [
    {
     "name": "stdout",
     "output_type": "stream",
     "text": [
      "Using the topology from ../tests/files/trajectories/divacancy_36/npt.pdb.\n",
      "Creating universes for ../tests/files/trajectories/divacancy_36/npt.dcd.\n",
      "SUCCESS: New sampling times.\n",
      "Start time: \t \t0 \t fs\n",
      "End time: \t \t1700 \t fs\n",
      "Time between frames: \t100 \t fs\n",
      "Frame frequency: \t1\n"
     ]
    },
    {
     "name": "stderr",
     "output_type": "stream",
     "text": [
      "/Users/Fabsilein/.pyenv/versions/3.9.1/lib/python3.9/site-packages/MDAnalysis/topology/PDBParser.py:330: UserWarning: Element information is absent or missing for a few atoms. Elements attributes will not be populated.\n",
      "  warnings.warn(\"Element information is absent or missing for a few \"\n",
      "/Users/Fabsilein/.pyenv/versions/3.9.1/lib/python3.9/site-packages/MDAnalysis/topology/base.py:203: DeprecationWarning: `np.int` is a deprecated alias for the builtin `int`. To silence this warning, use `int` by itself. Doing this will not modify any behavior and is safe. When replacing `np.int`, you may wish to use e.g. `np.int64` or `np.int32` to specify the precision. If you wish to review your current use, check the release note link for additional information.\n",
      "Deprecated in NumPy 1.20; for more details and guidance: https://numpy.org/devdocs/release/1.20.0-notes.html#deprecations\n",
      "  residx = np.zeros_like(criteria[0], dtype=np.int)\n",
      "/Users/Fabsilein/.pyenv/versions/3.9.1/lib/python3.9/site-packages/MDAnalysis/lib/distances.py:715: DeprecationWarning: `np.int` is a deprecated alias for the builtin `int`. To silence this warning, use `int` by itself. Doing this will not modify any behavior and is safe. When replacing `np.int`, you may wish to use e.g. `np.int64` or `np.int32` to specify the precision. If you wish to review your current use, check the release note link for additional information.\n",
      "Deprecated in NumPy 1.20; for more details and guidance: https://numpy.org/devdocs/release/1.20.0-notes.html#deprecations\n",
      "  gridsearch = FastNS(max_cutoff, configuration, box=box)\n"
     ]
    }
   ],
   "source": [
    "path = \"../tests/files/trajectories/divacancy_36/\"\n",
    "\n",
    "simulation = analysis.Simulation(path,\"Divacancy 36\")\n",
    "simulation.read_in_simulation_data()\n",
    "simulation.set_sampling_times(\n",
    "            start_time=0, end_time=-1, frame_frequency=1, time_between_frames=100\n",
    "        )\n",
    "\n",
    "simulation.find_defective_atoms()\n",
    "simulation.find_atoms_around_defects_within_cutoff()"
   ]
  },
  {
   "cell_type": "code",
   "execution_count": 5,
   "id": "5c0ea3cd",
   "metadata": {},
   "outputs": [
    {
     "data": {
      "application/vnd.jupyter.widget-view+json": {
       "model_id": "8bb9115a8051441bba1a027a557aa392",
       "version_major": 2,
       "version_minor": 0
      },
      "text/plain": [
       "  0%|          | 0/17 [00:00<?, ?it/s]"
      ]
     },
     "metadata": {},
     "output_type": "display_data"
    }
   ],
   "source": [
    "invariant_positions = simulation.compute_local_environments_geometry()"
   ]
  },
  {
   "cell_type": "code",
   "execution_count": 7,
   "id": "0f7f3856",
   "metadata": {},
   "outputs": [
    {
     "data": {
      "image/png": "[encoded data removed]",
      "text/plain": [
       "<Figure size 432x288 with 1 Axes>"
      ]
     },
     "metadata": {
      "needs_background": "light"
     },
     "output_type": "display_data"
    }
   ],
   "source": [
    "fig, ax = plt.subplots(1,1)\n",
    "\n",
    "for count,defect in enumerate(invariant_positions):\n",
    "    \n",
    "    ax.scatter(defect[:,0],defect[:,1])\n",
    "\n",
    "#ax.scatter(invariant_positions[10][:,0],invariant_positions[10][:,1])\n",
    "\n",
    "\n",
    "ax.set_aspect('equal')"
   ]
  },
  {
   "cell_type": "code",
   "execution_count": 16,
   "id": "46162d10",
   "metadata": {
    "scrolled": true
   },
   "outputs": [
    {
     "data": {
      "text/plain": [
       "<Popen: returncode: None args: ['/Users/Fabsilein/.pyenv/versions/3.9.1/bin/...>"
      ]
     },
     "execution_count": 16,
     "metadata": {},
     "output_type": "execute_result"
    }
   ],
   "source": [
    "view(simulation.topology[simulation.defective_atoms_ids_clustered[3]])"
   ]
  },
  {
   "cell_type": "code",
   "execution_count": 12,
   "id": "367f686b",
   "metadata": {},
   "outputs": [
    {
     "data": {
      "text/plain": [
       "array([1.57079633, 1.57079633, 0.52363049, 0.52363049, 1.57079633,\n",
       "       1.57079633, 1.57079633, 0.52352867, 1.57079633, 0.52357941,\n",
       "       0.52371815, 0.52352848, 1.57079633, 1.57079633, 0.52352867,\n",
       "       0.52357943, 0.52366729, 0.52361655, 1.57079633, 0.52357931,\n",
       "       0.52375531, 1.57079633, 0.52352875, 0.52362982, 1.57079633,\n",
       "       0.52352901, 0.52380626, 0.52363049, 0.52366753, 0.52352881,\n",
       "       0.52357868, 0.52352833, 1.57079633, 1.57079633, 0.52352901,\n",
       "       0.52352833])"
      ]
     },
     "execution_count": 12,
     "metadata": {},
     "output_type": "execute_result"
    }
   ],
   "source": [
    "simulation.orientations_per_defect"
   ]
  },
  {
   "cell_type": "code",
   "execution_count": 15,
   "id": "b0be23c7",
   "metadata": {},
   "outputs": [
    {
     "data": {
      "text/plain": [
       "<Popen: returncode: None args: ['/Users/Fabsilein/.pyenv/versions/3.9.1/bin/...>"
      ]
     },
     "execution_count": 15,
     "metadata": {},
     "output_type": "execute_result"
    }
   ],
   "source": [
    "view(simulation.topology[simulation.defective_atoms_ids_clustered[2]])"
   ]
  },
  {
   "cell_type": "code",
   "execution_count": null,
   "id": "9bb114b3",
   "metadata": {},
   "outputs": [],
   "source": []
  }
 ],
 "metadata": {
  "kernelspec": {
   "display_name": "Python 3",
   "language": "python",
   "name": "python3"
  },
  "language_info": {
   "codemirror_mode": {
    "name": "ipython",
    "version": 3
   },
   "file_extension": ".py",
   "mimetype": "text/x-python",
   "name": "python",
   "nbconvert_exporter": "python",
   "pygments_lexer": "ipython3",
   "version": "3.9.1"
  }
 },
 "nbformat": 4,
 "nbformat_minor": 5
}
